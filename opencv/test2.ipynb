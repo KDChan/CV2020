{
 "cells": [
  {
   "cell_type": "markdown",
   "metadata": {},
   "source": [
    "# 1.4 - Homework"
   ]
  },
  {
   "cell_type": "code",
   "execution_count": 1,
   "metadata": {},
   "outputs": [],
   "source": [
    "import cv2\n",
    "import numpy as np"
   ]
  },
  {
   "cell_type": "code",
   "execution_count": 2,
   "metadata": {},
   "outputs": [],
   "source": [
    "#cap = cv2.VideoCapture('tracking1.avi') # red\n",
    "#cap = cv2.VideoCapture('tracking3.avi') #red\n",
    "cap = cv2.VideoCapture('tracking2.avi') #yellow\n",
    "#cap = cv2.VideoCapture('tracking4.avi') # yellow"
   ]
  },
  {
   "cell_type": "code",
   "execution_count": 3,
   "metadata": {},
   "outputs": [],
   "source": [
    "while(cap.isOpened()):\n",
    "\n",
    "    ret, frame = cap.read()\n",
    "    #gray = cv2.cvtColor(fram, cv2.COLOR_BGR2GRAY)\n",
    "    hsv = cv2.cvtColor(frame, cv2.COLOR_BGR2HSV)\n",
    "\n",
    "    if ret :\n",
    "        cv2.imshow('frame', hsv)\n",
    "        \n",
    "    \n",
    "    # define range of yellow color in HSV\n",
    "    lower_yellow = np.array([20,50,50])\n",
    "    upper_yellow = np.array([30,255,255])\n",
    "    \"\"\"\n",
    "    # define range of red color in HSV\n",
    "    lower_red = np.array([0,40,40])\n",
    "    upper_red = np.array([0,255,255])\n",
    "    \"\"\"\n",
    "    \n",
    "    # Threshold the HSV image to get only yellow colors\n",
    "    mask = cv2.inRange(hsv, lower_yellow, upper_yellow)\n",
    "    \"\"\"\n",
    "    # Threshold the HSV image to get only red colors\n",
    "    mask = cv2.inRange(hsv, lower_red, upper_red)\n",
    "    \"\"\"\n",
    "    \n",
    "    # Bitwise-AND mask and original image\n",
    "    res = cv2.bitwise_and(frame,frame, mask= mask)\n",
    "    \n",
    "    cv2.imshow('frame',frame)\n",
    "    cv2.imshow('mask',mask)\n",
    "    cv2.imshow('res',res)\n",
    "    \n",
    "    k = cv2.waitKey(40) & 0xFF\n",
    "    \n",
    "    if k == 27:\n",
    "        break"
   ]
  },
  {
   "cell_type": "code",
   "execution_count": 4,
   "metadata": {},
   "outputs": [],
   "source": [
    "cap.release()\n",
    "cv2.destroyAllWindows()"
   ]
  }
 ],
 "metadata": {
  "kernelspec": {
   "display_name": "Python 3",
   "language": "python",
   "name": "python3"
  },
  "language_info": {
   "codemirror_mode": {
    "name": "ipython",
    "version": 3
   },
   "file_extension": ".py",
   "mimetype": "text/x-python",
   "name": "python",
   "nbconvert_exporter": "python",
   "pygments_lexer": "ipython3",
   "version": "3.8.5"
  }
 },
 "nbformat": 4,
 "nbformat_minor": 4
}
